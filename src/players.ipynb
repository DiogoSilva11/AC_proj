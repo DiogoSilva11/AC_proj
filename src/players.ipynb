{
 "cells": [
  {
   "cell_type": "code",
   "execution_count": 1,
   "metadata": {},
   "outputs": [],
   "source": [
    "#READ DATASET\n",
    "import numpy as np\n",
    "import pandas as pd\n",
    "import matplotlib.pyplot as plt\n",
    "import seaborn as sb\n",
    "%matplotlib inline\n",
    "\n",
    "players_data = pd.read_csv(\"../basketballPlayoffs/players.csv\")\n"
   ]
  },
  {
   "cell_type": "code",
   "execution_count": 2,
   "metadata": {},
   "outputs": [
    {
     "data": {
      "text/plain": [
       "(893, 10)"
      ]
     },
     "execution_count": 2,
     "metadata": {},
     "output_type": "execute_result"
    }
   ],
   "source": [
    "# SIZE OF DATA\n",
    "players_data.shape"
   ]
  },
  {
   "cell_type": "code",
   "execution_count": 3,
   "metadata": {},
   "outputs": [
    {
     "data": {
      "text/plain": [
       "False"
      ]
     },
     "execution_count": 3,
     "metadata": {},
     "output_type": "execute_result"
    }
   ],
   "source": [
    "# CHECK FOR DUPLICATED LINES\n",
    "players_data.duplicated().any()"
   ]
  },
  {
   "cell_type": "code",
   "execution_count": 4,
   "metadata": {},
   "outputs": [
    {
     "data": {
      "text/html": [
       "<div>\n",
       "<style scoped>\n",
       "    .dataframe tbody tr th:only-of-type {\n",
       "        vertical-align: middle;\n",
       "    }\n",
       "\n",
       "    .dataframe tbody tr th {\n",
       "        vertical-align: top;\n",
       "    }\n",
       "\n",
       "    .dataframe thead th {\n",
       "        text-align: right;\n",
       "    }\n",
       "</style>\n",
       "<table border=\"1\" class=\"dataframe\">\n",
       "  <thead>\n",
       "    <tr style=\"text-align: right;\">\n",
       "      <th></th>\n",
       "      <th>bioID</th>\n",
       "      <th>pos</th>\n",
       "      <th>firstseason</th>\n",
       "      <th>lastseason</th>\n",
       "      <th>height</th>\n",
       "      <th>weight</th>\n",
       "      <th>college</th>\n",
       "      <th>collegeOther</th>\n",
       "      <th>birthDate</th>\n",
       "      <th>deathDate</th>\n",
       "    </tr>\n",
       "  </thead>\n",
       "  <tbody>\n",
       "    <tr>\n",
       "      <th>0</th>\n",
       "      <td>abrahta01w</td>\n",
       "      <td>C</td>\n",
       "      <td>0</td>\n",
       "      <td>0</td>\n",
       "      <td>74.0</td>\n",
       "      <td>190</td>\n",
       "      <td>George Washington</td>\n",
       "      <td>NaN</td>\n",
       "      <td>1975-09-27</td>\n",
       "      <td>0000-00-00</td>\n",
       "    </tr>\n",
       "    <tr>\n",
       "      <th>1</th>\n",
       "      <td>abrossv01w</td>\n",
       "      <td>F</td>\n",
       "      <td>0</td>\n",
       "      <td>0</td>\n",
       "      <td>74.0</td>\n",
       "      <td>169</td>\n",
       "      <td>Connecticut</td>\n",
       "      <td>NaN</td>\n",
       "      <td>1980-07-09</td>\n",
       "      <td>0000-00-00</td>\n",
       "    </tr>\n",
       "    <tr>\n",
       "      <th>2</th>\n",
       "      <td>adairje01w</td>\n",
       "      <td>C</td>\n",
       "      <td>0</td>\n",
       "      <td>0</td>\n",
       "      <td>76.0</td>\n",
       "      <td>197</td>\n",
       "      <td>George Washington</td>\n",
       "      <td>NaN</td>\n",
       "      <td>1986-12-19</td>\n",
       "      <td>0000-00-00</td>\n",
       "    </tr>\n",
       "    <tr>\n",
       "      <th>3</th>\n",
       "      <td>adamsda01w</td>\n",
       "      <td>F-C</td>\n",
       "      <td>0</td>\n",
       "      <td>0</td>\n",
       "      <td>73.0</td>\n",
       "      <td>239</td>\n",
       "      <td>Texas A&amp;M</td>\n",
       "      <td>Jefferson College (JC)</td>\n",
       "      <td>1989-02-19</td>\n",
       "      <td>0000-00-00</td>\n",
       "    </tr>\n",
       "    <tr>\n",
       "      <th>4</th>\n",
       "      <td>adamsjo01w</td>\n",
       "      <td>C</td>\n",
       "      <td>0</td>\n",
       "      <td>0</td>\n",
       "      <td>75.0</td>\n",
       "      <td>180</td>\n",
       "      <td>New Mexico</td>\n",
       "      <td>NaN</td>\n",
       "      <td>1981-05-24</td>\n",
       "      <td>0000-00-00</td>\n",
       "    </tr>\n",
       "  </tbody>\n",
       "</table>\n",
       "</div>"
      ],
      "text/plain": [
       "        bioID  pos  firstseason  lastseason  height  weight  \\\n",
       "0  abrahta01w    C            0           0    74.0     190   \n",
       "1  abrossv01w    F            0           0    74.0     169   \n",
       "2  adairje01w    C            0           0    76.0     197   \n",
       "3  adamsda01w  F-C            0           0    73.0     239   \n",
       "4  adamsjo01w    C            0           0    75.0     180   \n",
       "\n",
       "             college            collegeOther   birthDate   deathDate  \n",
       "0  George Washington                     NaN  1975-09-27  0000-00-00  \n",
       "1        Connecticut                     NaN  1980-07-09  0000-00-00  \n",
       "2  George Washington                     NaN  1986-12-19  0000-00-00  \n",
       "3          Texas A&M  Jefferson College (JC)  1989-02-19  0000-00-00  \n",
       "4         New Mexico                     NaN  1981-05-24  0000-00-00  "
      ]
     },
     "execution_count": 4,
     "metadata": {},
     "output_type": "execute_result"
    }
   ],
   "source": [
    "# SEE THE FIRST ROWS\n",
    "players_data.head()"
   ]
  },
  {
   "cell_type": "code",
   "execution_count": 5,
   "metadata": {},
   "outputs": [
    {
     "data": {
      "text/html": [
       "<div>\n",
       "<style scoped>\n",
       "    .dataframe tbody tr th:only-of-type {\n",
       "        vertical-align: middle;\n",
       "    }\n",
       "\n",
       "    .dataframe tbody tr th {\n",
       "        vertical-align: top;\n",
       "    }\n",
       "\n",
       "    .dataframe thead th {\n",
       "        text-align: right;\n",
       "    }\n",
       "</style>\n",
       "<table border=\"1\" class=\"dataframe\">\n",
       "  <thead>\n",
       "    <tr style=\"text-align: right;\">\n",
       "      <th></th>\n",
       "      <th>firstseason</th>\n",
       "      <th>lastseason</th>\n",
       "      <th>height</th>\n",
       "      <th>weight</th>\n",
       "    </tr>\n",
       "  </thead>\n",
       "  <tbody>\n",
       "    <tr>\n",
       "      <th>count</th>\n",
       "      <td>893.0</td>\n",
       "      <td>893.0</td>\n",
       "      <td>893.000000</td>\n",
       "      <td>893.000000</td>\n",
       "    </tr>\n",
       "    <tr>\n",
       "      <th>mean</th>\n",
       "      <td>0.0</td>\n",
       "      <td>0.0</td>\n",
       "      <td>65.500560</td>\n",
       "      <td>145.415454</td>\n",
       "    </tr>\n",
       "    <tr>\n",
       "      <th>std</th>\n",
       "      <td>0.0</td>\n",
       "      <td>0.0</td>\n",
       "      <td>20.940425</td>\n",
       "      <td>61.275703</td>\n",
       "    </tr>\n",
       "    <tr>\n",
       "      <th>min</th>\n",
       "      <td>0.0</td>\n",
       "      <td>0.0</td>\n",
       "      <td>0.000000</td>\n",
       "      <td>0.000000</td>\n",
       "    </tr>\n",
       "    <tr>\n",
       "      <th>25%</th>\n",
       "      <td>0.0</td>\n",
       "      <td>0.0</td>\n",
       "      <td>68.000000</td>\n",
       "      <td>140.000000</td>\n",
       "    </tr>\n",
       "    <tr>\n",
       "      <th>50%</th>\n",
       "      <td>0.0</td>\n",
       "      <td>0.0</td>\n",
       "      <td>72.000000</td>\n",
       "      <td>162.000000</td>\n",
       "    </tr>\n",
       "    <tr>\n",
       "      <th>75%</th>\n",
       "      <td>0.0</td>\n",
       "      <td>0.0</td>\n",
       "      <td>75.000000</td>\n",
       "      <td>180.000000</td>\n",
       "    </tr>\n",
       "    <tr>\n",
       "      <th>max</th>\n",
       "      <td>0.0</td>\n",
       "      <td>0.0</td>\n",
       "      <td>80.000000</td>\n",
       "      <td>254.000000</td>\n",
       "    </tr>\n",
       "  </tbody>\n",
       "</table>\n",
       "</div>"
      ],
      "text/plain": [
       "       firstseason  lastseason      height      weight\n",
       "count        893.0       893.0  893.000000  893.000000\n",
       "mean           0.0         0.0   65.500560  145.415454\n",
       "std            0.0         0.0   20.940425   61.275703\n",
       "min            0.0         0.0    0.000000    0.000000\n",
       "25%            0.0         0.0   68.000000  140.000000\n",
       "50%            0.0         0.0   72.000000  162.000000\n",
       "75%            0.0         0.0   75.000000  180.000000\n",
       "max            0.0         0.0   80.000000  254.000000"
      ]
     },
     "execution_count": 5,
     "metadata": {},
     "output_type": "execute_result"
    }
   ],
   "source": [
    "# DESCRIPTION OF EACH ATTRIBUTE OF THE DATASET\n",
    "players_data.describe()"
   ]
  },
  {
   "cell_type": "code",
   "execution_count": 6,
   "metadata": {},
   "outputs": [
    {
     "data": {
      "text/html": [
       "<div>\n",
       "<style scoped>\n",
       "    .dataframe tbody tr th:only-of-type {\n",
       "        vertical-align: middle;\n",
       "    }\n",
       "\n",
       "    .dataframe tbody tr th {\n",
       "        vertical-align: top;\n",
       "    }\n",
       "\n",
       "    .dataframe thead th {\n",
       "        text-align: right;\n",
       "    }\n",
       "</style>\n",
       "<table border=\"1\" class=\"dataframe\">\n",
       "  <thead>\n",
       "    <tr style=\"text-align: right;\">\n",
       "      <th></th>\n",
       "      <th>bioID</th>\n",
       "      <th>pos</th>\n",
       "      <th>college</th>\n",
       "      <th>collegeOther</th>\n",
       "      <th>birthDate</th>\n",
       "      <th>deathDate</th>\n",
       "    </tr>\n",
       "  </thead>\n",
       "  <tbody>\n",
       "    <tr>\n",
       "      <th>count</th>\n",
       "      <td>893</td>\n",
       "      <td>815</td>\n",
       "      <td>726</td>\n",
       "      <td>11</td>\n",
       "      <td>893</td>\n",
       "      <td>893</td>\n",
       "    </tr>\n",
       "    <tr>\n",
       "      <th>unique</th>\n",
       "      <td>893</td>\n",
       "      <td>7</td>\n",
       "      <td>160</td>\n",
       "      <td>11</td>\n",
       "      <td>764</td>\n",
       "      <td>5</td>\n",
       "    </tr>\n",
       "    <tr>\n",
       "      <th>top</th>\n",
       "      <td>badertr01w</td>\n",
       "      <td>G</td>\n",
       "      <td>Tennessee</td>\n",
       "      <td>Scottsdale CC (JC)</td>\n",
       "      <td>0000-00-00</td>\n",
       "      <td>0000-00-00</td>\n",
       "    </tr>\n",
       "    <tr>\n",
       "      <th>freq</th>\n",
       "      <td>1</td>\n",
       "      <td>309</td>\n",
       "      <td>38</td>\n",
       "      <td>1</td>\n",
       "      <td>84</td>\n",
       "      <td>889</td>\n",
       "    </tr>\n",
       "  </tbody>\n",
       "</table>\n",
       "</div>"
      ],
      "text/plain": [
       "             bioID  pos    college        collegeOther   birthDate   deathDate\n",
       "count          893  815        726                  11         893         893\n",
       "unique         893    7        160                  11         764           5\n",
       "top     badertr01w    G  Tennessee  Scottsdale CC (JC)  0000-00-00  0000-00-00\n",
       "freq             1  309         38                   1          84         889"
      ]
     },
     "execution_count": 6,
     "metadata": {},
     "output_type": "execute_result"
    }
   ],
   "source": [
    "# DESCRIPTION OF FUEL ATTRIBUTE OF THE DATASET\n",
    "players_data.describe(include='object')"
   ]
  },
  {
   "cell_type": "code",
   "execution_count": 7,
   "metadata": {},
   "outputs": [
    {
     "name": "stdout",
     "output_type": "stream",
     "text": [
      "<class 'pandas.core.frame.DataFrame'>\n",
      "RangeIndex: 893 entries, 0 to 892\n",
      "Data columns (total 10 columns):\n",
      " #   Column        Non-Null Count  Dtype  \n",
      "---  ------        --------------  -----  \n",
      " 0   bioID         893 non-null    object \n",
      " 1   pos           815 non-null    object \n",
      " 2   firstseason   893 non-null    int64  \n",
      " 3   lastseason    893 non-null    int64  \n",
      " 4   height        893 non-null    float64\n",
      " 5   weight        893 non-null    int64  \n",
      " 6   college       726 non-null    object \n",
      " 7   collegeOther  11 non-null     object \n",
      " 8   birthDate     893 non-null    object \n",
      " 9   deathDate     893 non-null    object \n",
      "dtypes: float64(1), int64(3), object(6)\n",
      "memory usage: 69.9+ KB\n"
     ]
    }
   ],
   "source": [
    "# TYPES\n",
    "players_data.info()"
   ]
  }
 ],
 "metadata": {
  "kernelspec": {
   "display_name": "Python 3",
   "language": "python",
   "name": "python3"
  },
  "language_info": {
   "codemirror_mode": {
    "name": "ipython",
    "version": 3
   },
   "file_extension": ".py",
   "mimetype": "text/x-python",
   "name": "python",
   "nbconvert_exporter": "python",
   "pygments_lexer": "ipython3",
   "version": "3.8.3"
  },
  "orig_nbformat": 4
 },
 "nbformat": 4,
 "nbformat_minor": 2
}
